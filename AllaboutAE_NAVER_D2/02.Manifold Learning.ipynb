{
 "cells": [
  {
   "cell_type": "markdown",
   "metadata": {},
   "source": [
    "# 02. Manifold Learning"
   ]
  },
  {
   "cell_type": "markdown",
   "metadata": {},
   "source": [
    "![img16](./img/img16.png)\n",
    "- Manifold란 트레이닝 DB 데이터 전체의 각각의 샘플을 데이터 공간에서 봤을때 각각의 데이터를 오차없이 잘 아우르는 어떤 subspace를 의미한다.\n",
    "    - 원 데이터 공간안에 속해있는(원 데이터 공간보다 저차원) 어떤 subspace\n",
    "- 이 subspace를 잘 찾으면 이걸 projection(사영)해서 차원 축소를 할 수 있을 것이다.  "
   ]
  },
  {
   "cell_type": "markdown",
   "metadata": {},
   "source": [
    "#### Dimension Reduction 관점에서 Manifold Learning"
   ]
  },
  {
   "cell_type": "markdown",
   "metadata": {},
   "source": [
    "1. Data Compression(데이터 압축)\n",
    "1. Data Visualization(시각화)\n",
    "1. Curse of Dimensionality(차원의 저주 해결)\n",
    "1. Feature Extraction(유용한 feature 추출)"
   ]
  },
  {
   "cell_type": "markdown",
   "metadata": {},
   "source": [
    "#### Curse of Dimensionality"
   ]
  },
  {
   "cell_type": "markdown",
   "metadata": {},
   "source": [
    "![img17](./img/img17.png)\n",
    "- 데이터의 차원이 증가할수록 해당 데이터 공간의 크기가 기하급수적으로 증가하기 때문에 동일한 개수의 데이터 밀도는 급속도로 낮아진다.\n",
    "- 따라서 차원이 증가할수록 모델링에 필요한 데이터 샘플의 개수가 기하급수적으로 증가하게 된다. "
   ]
  },
  {
   "cell_type": "markdown",
   "metadata": {},
   "source": [
    "##### Manifold Hypothesis"
   ]
  },
  {
   "cell_type": "markdown",
   "metadata": {},
   "source": [
    "1. Natural data in high dimensional spaces concentrates close to lower dimensional manifolds.\n",
    "    - 고차원 데이터를 원 공간에서 봤을때 데이터들이 잘 밀집되어 있는 어떤 manifold가 존재할 것이다.\n",
    "1. Probability density decreases very rapidly when moving away from the supporting manifold.\n",
    "    - 그 manifold를 벗어나면 데이터 밀도는 급격히 낮아진다."
   ]
  },
  {
   "cell_type": "code",
   "execution_count": null,
   "metadata": {},
   "outputs": [],
   "source": []
  }
 ],
 "metadata": {
  "kernelspec": {
   "display_name": "Python 3",
   "language": "python",
   "name": "python3"
  },
  "language_info": {
   "codemirror_mode": {
    "name": "ipython",
    "version": 3
   },
   "file_extension": ".py",
   "mimetype": "text/x-python",
   "name": "python",
   "nbconvert_exporter": "python",
   "pygments_lexer": "ipython3",
   "version": "3.6.8"
  }
 },
 "nbformat": 4,
 "nbformat_minor": 2
}
