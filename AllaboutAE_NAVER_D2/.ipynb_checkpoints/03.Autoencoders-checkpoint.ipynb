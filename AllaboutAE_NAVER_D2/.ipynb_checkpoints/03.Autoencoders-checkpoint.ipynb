{
 "cells": [
  {
   "cell_type": "markdown",
   "metadata": {},
   "source": [
    "# 03.Autoencoders"
   ]
  },
  {
   "cell_type": "markdown",
   "metadata": {},
   "source": [
    "![img21](./img/img21.png)\n",
    "- 입출력이 동일한 네트워크\n",
    "- Unsupervised Learning 문제를 Supervised(self) Learning 문제로 바꿔서 풀 수 있었다.\n",
    "- Encoder, Decoder는 최소한 트레이닝 DB 안에 있는 데이터는 잘 압축하고 복원하는 minimum 성능이 보장됨.\n",
    "    - GAN은 minimum 성능 보장이 전혀 없음. 학습이 어렵다.\n",
    "- 하지만, 생성되는 데이터가 학습데이터와 비슷한 성향을 보인다.(완전히 새로운건 만들어지지 않는다.)\n"
   ]
  },
  {
   "cell_type": "code",
   "execution_count": null,
   "metadata": {},
   "outputs": [],
   "source": []
  }
 ],
 "metadata": {
  "kernelspec": {
   "display_name": "Python 3",
   "language": "python",
   "name": "python3"
  },
  "language_info": {
   "codemirror_mode": {
    "name": "ipython",
    "version": 3
   },
   "file_extension": ".py",
   "mimetype": "text/x-python",
   "name": "python",
   "nbconvert_exporter": "python",
   "pygments_lexer": "ipython3",
   "version": "3.6.8"
  }
 },
 "nbformat": 4,
 "nbformat_minor": 2
}
