{
 "cells": [
  {
   "cell_type": "markdown",
   "metadata": {},
   "source": [
    "# Backpropagation"
   ]
  },
  {
   "cell_type": "markdown",
   "metadata": {},
   "source": [
    "오차역전파 알고리즘으로 해석되는 Backpropagation 알고리즘은 인공 신경망 모델을 학습시키는 알고리즘이다. Gradient Descent Method와 Chain rule에 의해 과정을 설명할 수 있다. 아주 간단한 예시를 통해 과정을 이해해보자."
   ]
  },
  {
   "cell_type": "markdown",
   "metadata": {},
   "source": [
    "#### Single Neuron Training"
   ]
  },
  {
   "cell_type": "markdown",
   "metadata": {},
   "source": [
    "![img1](./img/img1.png)\n",
    "- 위와 같이 뉴런 하나짜리 모델을 학습시키는 과정을 보자.\n",
    "- 먼저 뉴런에 input $x$가 들어가면 출력값은 output $y$이다. 그렇다면 어떤 과정을 거쳐서 $x$가 $y$값으로 출력되는 것일까?\n",
    "    - 기본적으로 $x$에 weight와 bias가 붙어서 $\\sigma$ 값이 된다.$$\\sigma(x)=W\\cdot{x}+b$$\n",
    "    - $\\sigma$는 미리 정의한 activation fuction $f$의 입력값으로 들어가고 그 결과 $y$가 출력값으로 나온다.$$f(\\sigma)=y$$\n",
    "- 이처럼 $x$가 뉴런에 들어가서 $y$로 되는 과정을 Feedforward 방식이라고 한다. 말 그대로 결과값을 계속 다음 함수의 입력값으로 사용하면서 나아가는 방식이다."
   ]
  },
  {
   "cell_type": "markdown",
   "metadata": {},
   "source": [
    "위 모델에서 $W=2$, $b=1$로 놓고 activation function을 identity function($y=x$)으로 가정하고 계산을 해보자.\n",
    "- ![img2](./img/img2.png)\n",
    "- $x$가 위와 같이 주어졌을때 $y$가 계산되어서 나온다."
   ]
  },
  {
   "cell_type": "markdown",
   "metadata": {},
   "source": [
    "그러면 이제 우리는 저 뉴런이 고정된 입력 $x$가 들어갔을때 우리가 원하는 $y$값을 가지도록 하고 싶다. 예를 들어 $x=1$일때 $y=4$를 가지게 하고 싶다면 $W=2, b=2$ 또는 $W=4, b=0$ 이렇게 weight와 bias를 조정해주면 된다. 하지만, 뉴런의 개수가 많아지고 숫자가 저렇게 단순하지 않게 되면 일일이 weight와 bias를 바꿔가면서 $y$가 나오는지 확인하는 것은 무리가 있다. Backpropagation은 저 weight와 bias를 \"이런 방식으로 바꾸겠다\" 라고 하는 것이다. 그렇다면 '이런 방식'은 무엇일까??"
   ]
  },
  {
   "cell_type": "markdown",
   "metadata": {},
   "source": [
    "뉴런을 통해 출력된 값 $y$와 우리가 원하는 값 $y_{target}$의 차이를 나타내는 $E$를 도입해보자.$$E = \\frac{1}{2}(y_{target}-y)^{2}$$"
   ]
  },
  {
   "cell_type": "markdown",
   "metadata": {},
   "source": [
    "$E$가 0이 되면 우리가 원하는 $y_{target}$값이 출력되는 것이므로 $E$를 최소화 시키는 $W,b$를 찾으면 된다. 위 식을 그래프로 그려보면 \n",
    "- ![img3](./img/img3.png)"
   ]
  },
  {
   "cell_type": "markdown",
   "metadata": {},
   "source": [
    "여기서 Gradient Descent 개념이 나온다. 위 그래프에서 $E$가 최소인 지점으로 가기 위해서는 기울기가 작아지는 쪽으로 $W$를 갱신시켜야 한다. 이 때 learning rate $\\alpha$를 도입해서 다음과 같은 식을 세운다. $$W_{updated}=W-\\alpha\\cdot{\\frac{\\partial{E}}{\\partial{W}}}$$"
   ]
  },
  {
   "cell_type": "markdown",
   "metadata": {},
   "source": [
    "$\\alpha$는 한번 update시킬때 얼마만큼 움직일지를 결정하는 것으로 항상 양수로 정하고 가는 수다. 그렇다면 이제 Gradient값(${\\frac{\\partial{E}}{\\partial{W}}}$)만 알면 W를 갱신할 수 있다. "
   ]
  },
  {
   "cell_type": "markdown",
   "metadata": {},
   "source": [
    "FeedFoward 과정을 보면 계산 결과값이 다음 계산의 입력값으로 사용되고 그 결과로 $y$가 나오는 것을 볼 수 있다. 즉, 각 계산의 변화율을 통해서 우리가 알고자 하는 값인 ${\\frac{\\partial{E}}{\\partial{W}}}$를 알 수 있다는 것이다. "
   ]
  },
  {
   "cell_type": "markdown",
   "metadata": {},
   "source": [
    "![img4](./img/img4.png)\n",
    "- 즉, ${\\frac{\\partial{E}}{\\partial{W}}}$ 를 알아내기 위한 식을 써보면 $${\\frac{\\partial{E}}{\\partial{W}}}={\\frac{\\partial{E}}{\\partial{y}}}\\cdot{\\frac{\\partial{y}}{\\partial{f}}}\\cdot{\\frac{\\partial{f}}{\\partial{\\sigma}}}\\cdot{\\frac{\\partial{\\sigma}}{\\partial{W}}}$$"
   ]
  },
  {
   "cell_type": "markdown",
   "metadata": {},
   "source": [
    "위 식에서 각각의 값을 모두 구해서 곱해주면 Gradient값을 알 수 있다. 순서대로 해보면 \n",
    "- $E$를 $y$에 대해 미분하면  $E = \\frac{1}{2}(y_{target}-y)^{2}$ 이므로 $y-y_{target}$\n",
    "- $y$를 $f$에 대해 미분하면 $f$가 결국 $y$이므로 $f=y$, 따라서 1\n",
    "- $f$를 $\\sigma$에 대해 미분하면(우리는 f를 $y=x$로 가정했으므로) 1\n",
    "- $\\sigma$를 $W$에 대해 미분하면 $\\sigma(x)=W\\cdot{x}+b$ 이므로 $x$\n"
   ]
  },
  {
   "cell_type": "markdown",
   "metadata": {},
   "source": [
    "결국 Gradient 값은 $${\\frac{\\partial{E}}{\\partial{W}}}=(y-y_{target})\\cdot{1}\\cdot{1}\\cdot{x}$$"
   ]
  },
  {
   "cell_type": "markdown",
   "metadata": {},
   "source": [
    "$x=1$일때 출력값 $y=3$이고 우리가 원하는 $y_{target}=4$이므로 각각 대입해서 계산하면 Gradient값은 $-1$이 나온다. 그러면 이 값을 위에 $W$갱신식에 넣고 계산하면($\\alpha=0.1$로 가정) $$W_{updated}=2-0.1\\cdot{(-1)}=2.1$$"
   ]
  },
  {
   "cell_type": "markdown",
   "metadata": {},
   "source": [
    "즉, $W=2.1$이 되면 $E$가 전보다 줄어든다는 것이다. 이런 방식으로 갱신을 여러번 시키다가 $E$가 최소가 되는 점에 이르면 우리가 원하는 $y_{target}$값을 가지게 하는 $W,b$를 찾은 것이다."
   ]
  },
  {
   "cell_type": "markdown",
   "metadata": {},
   "source": [
    "이 과정을 코드로 구현해보자."
   ]
  },
  {
   "cell_type": "code",
   "execution_count": 1,
   "metadata": {},
   "outputs": [],
   "source": [
    "import tensorflow as tf"
   ]
  },
  {
   "cell_type": "code",
   "execution_count": 2,
   "metadata": {},
   "outputs": [],
   "source": [
    "class Neuron(object):\n",
    "  def __init__(self, w_,b_):\n",
    "    self.w_ = tf.Variable(w_, name='weight')\n",
    "    self.b_ = tf.Variable(b_, name='bias')\n",
    "    self.output_ = tf.constant(0.0)\n",
    "    \n",
    "    self.input_ = tf.placeholder(tf.float32, shape=[1], name='input_')\n",
    "    self.target_ = tf.placeholder(tf.float32, shape=[1], name='output_')\n",
    " \n",
    "  def getActivation(self, x): # y=x\n",
    "    return x\n",
    "  \n",
    "  def getActivationGradient(self, sigma): # Activation function 미분값\n",
    "    return 1.0\n",
    "  \n",
    "  def propBackWard(self): # learning rate = 0.1\n",
    "    lr = 0.1\n",
    "    \n",
    "    grad = (self.output_ - self.target_) * self.getActivationGradient(self.output_)\n",
    "    self.w_ = self.w_ - (lr * grad * self.input_)\n",
    "    self.b_ = self.b_ - (lr * grad * 1.0)\n",
    "    \n",
    "    return self.feedforward()\n",
    "  \n",
    "  def feedforward(self):\n",
    "    sigma = self.w_ * self.input_ + self.b_\n",
    "    self.output_ = self.getActivation(sigma)\n",
    "    return self.output_"
   ]
  },
  {
   "cell_type": "code",
   "execution_count": 3,
   "metadata": {},
   "outputs": [],
   "source": [
    "my_neuron = Neuron(2.0, 1.0) # 초기 W=2,b=1\n",
    "\n",
    "x = [1.0]\n",
    "y = [4.0]"
   ]
  },
  {
   "cell_type": "code",
   "execution_count": 4,
   "metadata": {},
   "outputs": [
    {
     "name": "stdout",
     "output_type": "stream",
     "text": [
      "[ 3.]\n",
      "0\n",
      "[ 3.19999981]\n",
      "[array([ 2.0999999], dtype=float32), array([ 1.10000002], dtype=float32)]\n",
      "1\n",
      "[ 3.3599999]\n",
      "[array([ 2.17999983], dtype=float32), array([ 1.18000007], dtype=float32)]\n",
      "2\n",
      "[ 3.48799992]\n",
      "[array([ 2.24399996], dtype=float32), array([ 1.24400008], dtype=float32)]\n",
      "3\n",
      "[ 3.59039998]\n",
      "[array([ 2.29519987], dtype=float32), array([ 1.29520011], dtype=float32)]\n",
      "4\n",
      "[ 3.67231989]\n",
      "[array([ 2.33615994], dtype=float32), array([ 1.33616006], dtype=float32)]\n",
      "5\n",
      "[ 3.73785591]\n",
      "[array([ 2.36892796], dtype=float32), array([ 1.36892807], dtype=float32)]\n",
      "6\n",
      "[ 3.79028463]\n",
      "[array([ 2.39514232], dtype=float32), array([ 1.39514244], dtype=float32)]\n",
      "7\n",
      "[ 3.83222771]\n",
      "[array([ 2.41611385], dtype=float32), array([ 1.41611397], dtype=float32)]\n",
      "8\n",
      "[ 3.86578226]\n",
      "[array([ 2.43289113], dtype=float32), array([ 1.43289125], dtype=float32)]\n",
      "9\n",
      "[ 3.89262581]\n",
      "[array([ 2.4463129], dtype=float32), array([ 1.44631302], dtype=float32)]\n",
      "10\n",
      "[ 3.91410065]\n",
      "[array([ 2.45705032], dtype=float32), array([ 1.45705044], dtype=float32)]\n",
      "11\n",
      "[ 3.93128061]\n",
      "[array([ 2.46564031], dtype=float32), array([ 1.46564043], dtype=float32)]\n",
      "12\n",
      "[ 3.94502449]\n",
      "[array([ 2.47251225], dtype=float32), array([ 1.47251236], dtype=float32)]\n",
      "13\n",
      "[ 3.95601964]\n",
      "[array([ 2.4780097], dtype=float32), array([ 1.47800994], dtype=float32)]\n",
      "14\n",
      "[ 3.96481562]\n",
      "[array([ 2.48240781], dtype=float32), array([ 1.48240793], dtype=float32)]\n",
      "15\n",
      "[ 3.97185254]\n",
      "[array([ 2.48592615], dtype=float32), array([ 1.48592639], dtype=float32)]\n",
      "16\n",
      "[ 3.97748208]\n",
      "[array([ 2.48874092], dtype=float32), array([ 1.48874116], dtype=float32)]\n",
      "17\n",
      "[ 3.98198557]\n",
      "[array([ 2.49099278], dtype=float32), array([ 1.4909929], dtype=float32)]\n",
      "18\n",
      "[ 3.98558855]\n",
      "[array([ 2.49279428], dtype=float32), array([ 1.49279439], dtype=float32)]\n",
      "19\n",
      "[ 3.98847103]\n",
      "[array([ 2.49423552], dtype=float32), array([ 1.49423552], dtype=float32)]\n",
      "20\n",
      "[ 3.99077702]\n",
      "[array([ 2.49538851], dtype=float32), array([ 1.49538839], dtype=float32)]\n",
      "21\n",
      "[ 3.99262142]\n",
      "[array([ 2.49631071], dtype=float32), array([ 1.49631071], dtype=float32)]\n",
      "22\n",
      "[ 3.99409723]\n",
      "[array([ 2.49704862], dtype=float32), array([ 1.49704862], dtype=float32)]\n",
      "23\n",
      "[ 3.99527788]\n",
      "[array([ 2.49763894], dtype=float32), array([ 1.49763894], dtype=float32)]\n",
      "24\n",
      "[ 3.9962225]\n",
      "[array([ 2.49811125], dtype=float32), array([ 1.49811113], dtype=float32)]\n",
      "25\n",
      "[ 3.99697781]\n",
      "[array([ 2.4984889], dtype=float32), array([ 1.4984889], dtype=float32)]\n",
      "26\n",
      "[ 3.99758244]\n",
      "[array([ 2.49879122], dtype=float32), array([ 1.4987911], dtype=float32)]\n",
      "27\n",
      "[ 3.99806595]\n",
      "[array([ 2.49903297], dtype=float32), array([ 1.49903286], dtype=float32)]\n",
      "28\n",
      "[ 3.99845266]\n",
      "[array([ 2.49922633], dtype=float32), array([ 1.49922621], dtype=float32)]\n",
      "29\n",
      "[ 3.99876213]\n",
      "[array([ 2.49938107], dtype=float32), array([ 1.49938095], dtype=float32)]\n",
      "30\n",
      "[ 3.99900961]\n",
      "[array([ 2.4995048], dtype=float32), array([ 1.49950469], dtype=float32)]\n",
      "31\n",
      "[ 3.9992075]\n",
      "[array([ 2.49960375], dtype=float32), array([ 1.49960375], dtype=float32)]\n",
      "32\n",
      "[ 3.99936581]\n",
      "[array([ 2.4996829], dtype=float32), array([ 1.49968302], dtype=float32)]\n",
      "33\n",
      "[ 3.99949265]\n",
      "[array([ 2.49974632], dtype=float32), array([ 1.49974644], dtype=float32)]\n",
      "34\n",
      "[ 3.99959421]\n",
      "[array([ 2.49979711], dtype=float32), array([ 1.49979722], dtype=float32)]\n",
      "35\n",
      "[ 3.99967527]\n",
      "[array([ 2.49983764], dtype=float32), array([ 1.49983776], dtype=float32)]\n",
      "36\n",
      "[ 3.99974012]\n",
      "[array([ 2.49987006], dtype=float32), array([ 1.49987018], dtype=float32)]\n",
      "37\n",
      "[ 3.9997921]\n",
      "[array([ 2.49989605], dtype=float32), array([ 1.49989617], dtype=float32)]\n",
      "38\n",
      "[ 3.99983358]\n",
      "[array([ 2.49991679], dtype=float32), array([ 1.49991691], dtype=float32)]\n",
      "39\n",
      "[ 3.99986696]\n",
      "[array([ 2.49993348], dtype=float32), array([ 1.4999336], dtype=float32)]\n",
      "40\n",
      "[ 3.99989367]\n",
      "[array([ 2.49994683], dtype=float32), array([ 1.49994695], dtype=float32)]\n",
      "41\n",
      "[ 3.99991512]\n",
      "[array([ 2.49995756], dtype=float32), array([ 1.49995756], dtype=float32)]\n",
      "42\n",
      "[ 3.99993229]\n",
      "[array([ 2.49996614], dtype=float32), array([ 1.49996603], dtype=float32)]\n",
      "43\n",
      "[ 3.99994564]\n",
      "[array([ 2.49997282], dtype=float32), array([ 1.49997282], dtype=float32)]\n",
      "44\n",
      "[ 3.99995661]\n",
      "[array([ 2.4999783], dtype=float32), array([ 1.4999783], dtype=float32)]\n",
      "45\n",
      "[ 3.99996519]\n",
      "[array([ 2.4999826], dtype=float32), array([ 1.4999826], dtype=float32)]\n",
      "46\n",
      "[ 3.99997234]\n",
      "[array([ 2.49998617], dtype=float32), array([ 1.49998605], dtype=float32)]\n",
      "47\n",
      "[ 3.99997783]\n",
      "[array([ 2.49998903], dtype=float32), array([ 1.49998879], dtype=float32)]\n",
      "48\n",
      "[ 3.99998236]\n",
      "[array([ 2.49999118], dtype=float32), array([ 1.49999106], dtype=float32)]\n",
      "49\n",
      "[ 3.99998569]\n",
      "[array([ 2.49999285], dtype=float32), array([ 1.49999285], dtype=float32)]\n",
      "50\n",
      "[ 3.99998856]\n",
      "[array([ 2.49999428], dtype=float32), array([ 1.49999428], dtype=float32)]\n",
      "51\n",
      "[ 3.99999094]\n",
      "[array([ 2.49999547], dtype=float32), array([ 1.49999547], dtype=float32)]\n",
      "52\n",
      "[ 3.99999285]\n",
      "[array([ 2.49999642], dtype=float32), array([ 1.49999642], dtype=float32)]\n",
      "53\n",
      "[ 3.99999428]\n",
      "[array([ 2.49999714], dtype=float32), array([ 1.49999714], dtype=float32)]\n",
      "54\n",
      "[ 3.99999523]\n",
      "[array([ 2.49999762], dtype=float32), array([ 1.49999774], dtype=float32)]\n",
      "55\n",
      "[ 3.99999619]\n",
      "[array([ 2.49999809], dtype=float32), array([ 1.49999821], dtype=float32)]\n",
      "56\n",
      "[ 3.99999714]\n",
      "[array([ 2.49999857], dtype=float32), array([ 1.49999857], dtype=float32)]\n",
      "57\n",
      "[ 3.99999762]\n",
      "[array([ 2.49999881], dtype=float32), array([ 1.49999881], dtype=float32)]\n",
      "58\n",
      "[ 3.99999809]\n",
      "[array([ 2.49999905], dtype=float32), array([ 1.49999905], dtype=float32)]\n",
      "59\n",
      "[ 3.99999857]\n",
      "[array([ 2.49999928], dtype=float32), array([ 1.49999928], dtype=float32)]\n",
      "60\n",
      "[ 3.99999905]\n",
      "[array([ 2.49999952], dtype=float32), array([ 1.4999994], dtype=float32)]\n",
      "61\n",
      "[ 3.99999905]\n",
      "[array([ 2.49999952], dtype=float32), array([ 1.49999952], dtype=float32)]\n",
      "62\n",
      "[ 3.99999905]\n",
      "[array([ 2.49999952], dtype=float32), array([ 1.49999964], dtype=float32)]\n",
      "63\n",
      "[ 3.99999928]\n",
      "[array([ 2.49999952], dtype=float32), array([ 1.49999976], dtype=float32)]\n",
      "64\n",
      "[ 3.99999952]\n",
      "[array([ 2.49999952], dtype=float32), array([ 1.49999988], dtype=float32)]\n",
      "65\n",
      "[ 3.99999952]\n",
      "[array([ 2.49999952], dtype=float32), array([ 1.49999988], dtype=float32)]\n",
      "66\n",
      "[ 3.99999952]\n",
      "[array([ 2.49999952], dtype=float32), array([ 1.49999988], dtype=float32)]\n",
      "67\n",
      "[ 3.99999952]\n",
      "[array([ 2.49999952], dtype=float32), array([ 1.49999988], dtype=float32)]\n",
      "68\n",
      "[ 3.99999952]\n",
      "[array([ 2.49999952], dtype=float32), array([ 1.49999988], dtype=float32)]\n",
      "69\n",
      "[ 3.99999952]\n",
      "[array([ 2.49999952], dtype=float32), array([ 1.49999988], dtype=float32)]\n",
      "70\n",
      "[ 3.99999952]\n",
      "[array([ 2.49999952], dtype=float32), array([ 1.49999988], dtype=float32)]\n",
      "71\n",
      "[ 3.99999952]\n",
      "[array([ 2.49999952], dtype=float32), array([ 1.49999988], dtype=float32)]\n",
      "72\n",
      "[ 3.99999952]\n",
      "[array([ 2.49999952], dtype=float32), array([ 1.49999988], dtype=float32)]\n",
      "73\n",
      "[ 3.99999952]\n",
      "[array([ 2.49999952], dtype=float32), array([ 1.49999988], dtype=float32)]\n",
      "74\n",
      "[ 3.99999952]\n",
      "[array([ 2.49999952], dtype=float32), array([ 1.49999988], dtype=float32)]\n",
      "75\n",
      "[ 3.99999952]\n",
      "[array([ 2.49999952], dtype=float32), array([ 1.49999988], dtype=float32)]\n",
      "76\n",
      "[ 3.99999952]\n",
      "[array([ 2.49999952], dtype=float32), array([ 1.49999988], dtype=float32)]\n",
      "77\n",
      "[ 3.99999952]\n",
      "[array([ 2.49999952], dtype=float32), array([ 1.49999988], dtype=float32)]\n",
      "78\n",
      "[ 3.99999952]\n",
      "[array([ 2.49999952], dtype=float32), array([ 1.49999988], dtype=float32)]\n",
      "79\n",
      "[ 3.99999952]\n",
      "[array([ 2.49999952], dtype=float32), array([ 1.49999988], dtype=float32)]\n",
      "80\n",
      "[ 3.99999952]\n",
      "[array([ 2.49999952], dtype=float32), array([ 1.49999988], dtype=float32)]\n",
      "81\n",
      "[ 3.99999952]\n",
      "[array([ 2.49999952], dtype=float32), array([ 1.49999988], dtype=float32)]\n",
      "82\n",
      "[ 3.99999952]\n",
      "[array([ 2.49999952], dtype=float32), array([ 1.49999988], dtype=float32)]\n",
      "83\n",
      "[ 3.99999952]\n",
      "[array([ 2.49999952], dtype=float32), array([ 1.49999988], dtype=float32)]\n",
      "84\n",
      "[ 3.99999952]\n",
      "[array([ 2.49999952], dtype=float32), array([ 1.49999988], dtype=float32)]\n",
      "85\n",
      "[ 3.99999952]\n",
      "[array([ 2.49999952], dtype=float32), array([ 1.49999988], dtype=float32)]\n",
      "86\n",
      "[ 3.99999952]\n",
      "[array([ 2.49999952], dtype=float32), array([ 1.49999988], dtype=float32)]\n",
      "87\n",
      "[ 3.99999952]\n",
      "[array([ 2.49999952], dtype=float32), array([ 1.49999988], dtype=float32)]\n",
      "88\n",
      "[ 3.99999952]\n",
      "[array([ 2.49999952], dtype=float32), array([ 1.49999988], dtype=float32)]\n",
      "89\n",
      "[ 3.99999952]\n",
      "[array([ 2.49999952], dtype=float32), array([ 1.49999988], dtype=float32)]\n",
      "90\n",
      "[ 3.99999952]\n",
      "[array([ 2.49999952], dtype=float32), array([ 1.49999988], dtype=float32)]\n",
      "91\n",
      "[ 3.99999952]\n",
      "[array([ 2.49999952], dtype=float32), array([ 1.49999988], dtype=float32)]\n",
      "92\n",
      "[ 3.99999952]\n",
      "[array([ 2.49999952], dtype=float32), array([ 1.49999988], dtype=float32)]\n",
      "93\n",
      "[ 3.99999952]\n",
      "[array([ 2.49999952], dtype=float32), array([ 1.49999988], dtype=float32)]\n",
      "94\n",
      "[ 3.99999952]\n",
      "[array([ 2.49999952], dtype=float32), array([ 1.49999988], dtype=float32)]\n",
      "95\n",
      "[ 3.99999952]\n",
      "[array([ 2.49999952], dtype=float32), array([ 1.49999988], dtype=float32)]\n",
      "96\n",
      "[ 3.99999952]\n",
      "[array([ 2.49999952], dtype=float32), array([ 1.49999988], dtype=float32)]\n",
      "97\n",
      "[ 3.99999952]\n",
      "[array([ 2.49999952], dtype=float32), array([ 1.49999988], dtype=float32)]\n",
      "98\n",
      "[ 3.99999952]\n",
      "[array([ 2.49999952], dtype=float32), array([ 1.49999988], dtype=float32)]\n",
      "99\n",
      "[ 3.99999952]\n",
      "[array([ 2.49999952], dtype=float32), array([ 1.49999988], dtype=float32)]\n"
     ]
    }
   ],
   "source": [
    "# 모델 학습\n",
    "with tf.Session() as sess:\n",
    "  sess.run(tf.global_variables_initializer())\n",
    "  print(sess.run(my_neuron.feedforward(), feed_dict={my_neuron.input_: x, my_neuron.target_: y}))\n",
    "  \n",
    "  for i in range(100):\n",
    "    print(i)\n",
    "    print(sess.run(my_neuron.propBackWard(), feed_dict={my_neuron.input_: x, my_neuron.target_: y}))\n",
    "    print(sess.run([my_neuron.w_, my_neuron.b_], feed_dict={my_neuron.input_: x, my_neuron.target_: y}))"
   ]
  },
  {
   "cell_type": "markdown",
   "metadata": {},
   "source": [
    "학습 결과를 보면 64번째부터 $W,b$값이 바뀌지 않음을 보이고 있다. 저 시점에 $E$가 최소가 되는 점에 도달했음을 의미한다."
   ]
  },
  {
   "cell_type": "markdown",
   "metadata": {},
   "source": [
    "### References"
   ]
  },
  {
   "cell_type": "markdown",
   "metadata": {},
   "source": [
    "- lecture : https://www.youtube.com/watch?v=ZMgax46Rd3g - 뉴런 하나를 학습시키기"
   ]
  }
 ],
 "metadata": {
  "kernelspec": {
   "display_name": "Python 3",
   "language": "python",
   "name": "python3"
  },
  "language_info": {
   "codemirror_mode": {
    "name": "ipython",
    "version": 3
   },
   "file_extension": ".py",
   "mimetype": "text/x-python",
   "name": "python",
   "nbconvert_exporter": "python",
   "pygments_lexer": "ipython3",
   "version": "3.6.8"
  }
 },
 "nbformat": 4,
 "nbformat_minor": 2
}
